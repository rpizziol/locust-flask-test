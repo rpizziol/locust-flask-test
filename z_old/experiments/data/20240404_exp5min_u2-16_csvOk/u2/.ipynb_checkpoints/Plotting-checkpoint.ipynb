{
 "cells": [
  {
   "cell_type": "code",
   "execution_count": 23,
   "id": "4ad65f4a",
   "metadata": {},
   "outputs": [],
   "source": [
    "import pandas as pd\n",
    "import matplotlib.pyplot as plt\n",
    "import re"
   ]
  },
  {
   "cell_type": "code",
   "execution_count": 24,
   "id": "b554466b",
   "metadata": {},
   "outputs": [],
   "source": [
    "def reformat_time(old_time):\n",
    "    return pd.to_datetime(re.sub(r'\\([^)]*\\)', '', old_time))"
   ]
  },
  {
   "cell_type": "code",
   "execution_count": 25,
   "id": "cf3c912b",
   "metadata": {},
   "outputs": [
    {
     "name": "stdout",
     "output_type": "stream",
     "text": [
      "                       time       CPU\n",
      "0 2024-04-04 12:14:00-02:00  0.146548\n",
      "1 2024-04-04 12:15:00-02:00  0.023017\n",
      "2 2024-04-04 12:16:00-02:00  0.192012\n",
      "3 2024-04-04 12:17:00-02:00  0.497175\n",
      "4 2024-04-04 12:18:00-02:00  0.394026\n",
      "5 2024-04-04 12:19:00-02:00  0.426634\n",
      "6 2024-04-04 12:20:00-02:00  0.453477\n",
      "7 2024-04-04 12:21:00-02:00  0.289510\n",
      "8 2024-04-04 12:22:00-02:00  0.050453\n",
      "Prima del resampling\n",
      "                       time       RPS\n",
      "0 2024-04-04 12:14:00-02:00  3.872920\n",
      "1 2024-04-04 12:16:00-02:00  3.994687\n",
      "2 2024-04-04 12:17:00-02:00  4.794398\n",
      "3 2024-04-04 12:18:00-02:00  4.130650\n",
      "4 2024-04-04 12:19:00-02:00  4.536702\n",
      "5 2024-04-04 12:20:00-02:00  4.524113\n",
      "6 2024-04-04 12:21:00-02:00  4.596898\n",
      "Dopo il resampling\n",
      "                                RPS\n",
      "time                               \n",
      "2024-04-04 12:14:00-02:00  3.872920\n",
      "2024-04-04 12:15:00-02:00  3.872920\n",
      "2024-04-04 12:16:00-02:00  3.994687\n",
      "2024-04-04 12:17:00-02:00  4.794398\n",
      "2024-04-04 12:18:00-02:00  4.130650\n",
      "2024-04-04 12:19:00-02:00  4.536702\n",
      "2024-04-04 12:20:00-02:00  4.524113\n",
      "2024-04-04 12:21:00-02:00  4.596898\n"
     ]
    }
   ],
   "source": [
    "#df1 = pd.read_csv(\"./SpringTestApp_3Tier_-_CPU_Usage/SpringTestApp_3Tier_-_CPU_Usage_1.csv\")\n",
    "# df2 = pd.read_csv(\"./SpringTestApp_3Tier_-_CPU_Usage/SpringTestApp_3Tier_-_CPU_Usage_2.csv\")\n",
    "# df3 = pd.read_csv(\"./SpringTestApp_3Tier_-_CPU_Usage/SpringTestApp_3Tier_-_CPU_Usage_3.csv\")\n",
    "\n",
    "df0 = pd.read_csv(\"/home/robb/PycharmProjects/locust-flask-test/experiments/data/20240404_exp5min_u2-16/u6/SpringTestApp_3Tier_-_CPU_Usage/SpringTestApp_3Tier_-_CPU_Usage_2.csv\", skiprows=1)\n",
    "df1 = pd.read_csv(\"/home/robb/PycharmProjects/locust-flask-test/experiments/data/20240404_exp5min_u2-16/u6/SpringTestApp_3Tier_-_RPS/SpringTestApp_3Tier_-_RPS_2.csv\", skiprows=1)\n",
    "\n",
    "\n",
    "df1.columns = ['time', 'RPS']\n",
    "df0.columns = ['time', 'CPU']\n",
    "df1['time'] = df1['time'].apply(lambda x: reformat_time(x))\n",
    "df0['time'] = df0['time'].apply(lambda x: reformat_time(x))\n",
    "\n",
    "\n",
    "\n",
    "print(df0)\n",
    "\n",
    "print(\"Prima del resampling\")\n",
    "\n",
    "print(df1)\n",
    "\n",
    "df1['time'] = pd.to_datetime(df1['time'])\n",
    "df1.set_index('time', inplace=True)\n",
    "df1 = df1.resample('1min').ffill()\n",
    "\n",
    "print(\"Dopo il resampling\")\n",
    "\n",
    "print(df1)\n"
   ]
  },
  {
   "cell_type": "code",
   "execution_count": 34,
   "id": "e813bd45",
   "metadata": {},
   "outputs": [
    {
     "ename": "KeyError",
     "evalue": "'time'",
     "output_type": "error",
     "traceback": [
      "\u001b[0;31m---------------------------------------------------------------------------\u001b[0m",
      "\u001b[0;31mKeyError\u001b[0m                                  Traceback (most recent call last)",
      "File \u001b[0;32m/usr/lib/python3/dist-packages/pandas/core/indexes/base.py:3802\u001b[0m, in \u001b[0;36mIndex.get_loc\u001b[0;34m(self, key, method, tolerance)\u001b[0m\n\u001b[1;32m   3801\u001b[0m \u001b[38;5;28;01mtry\u001b[39;00m:\n\u001b[0;32m-> 3802\u001b[0m     \u001b[38;5;28;01mreturn\u001b[39;00m \u001b[38;5;28;43mself\u001b[39;49m\u001b[38;5;241;43m.\u001b[39;49m\u001b[43m_engine\u001b[49m\u001b[38;5;241;43m.\u001b[39;49m\u001b[43mget_loc\u001b[49m\u001b[43m(\u001b[49m\u001b[43mcasted_key\u001b[49m\u001b[43m)\u001b[49m\n\u001b[1;32m   3803\u001b[0m \u001b[38;5;28;01mexcept\u001b[39;00m \u001b[38;5;167;01mKeyError\u001b[39;00m \u001b[38;5;28;01mas\u001b[39;00m err:\n",
      "File \u001b[0;32m/usr/lib/python3/dist-packages/pandas/_libs/index.pyx:138\u001b[0m, in \u001b[0;36mpandas._libs.index.IndexEngine.get_loc\u001b[0;34m()\u001b[0m\n",
      "File \u001b[0;32m/usr/lib/python3/dist-packages/pandas/_libs/index.pyx:165\u001b[0m, in \u001b[0;36mpandas._libs.index.IndexEngine.get_loc\u001b[0;34m()\u001b[0m\n",
      "File \u001b[0;32mpandas/_libs/hashtable_class_helper.pxi:5745\u001b[0m, in \u001b[0;36mpandas._libs.hashtable.PyObjectHashTable.get_item\u001b[0;34m()\u001b[0m\n",
      "File \u001b[0;32mpandas/_libs/hashtable_class_helper.pxi:5753\u001b[0m, in \u001b[0;36mpandas._libs.hashtable.PyObjectHashTable.get_item\u001b[0;34m()\u001b[0m\n",
      "\u001b[0;31mKeyError\u001b[0m: 'time'",
      "\nThe above exception was the direct cause of the following exception:\n",
      "\u001b[0;31mKeyError\u001b[0m                                  Traceback (most recent call last)",
      "Cell \u001b[0;32mIn[34], line 5\u001b[0m\n\u001b[1;32m      1\u001b[0m \u001b[38;5;66;03m#plt.plot(df1['time'], df1['RPS'], label='DF1')  # Plot data from df1\u001b[39;00m\n\u001b[1;32m      3\u001b[0m plt\u001b[38;5;241m.\u001b[39mplot(df1)\n\u001b[0;32m----> 5\u001b[0m df0[\u001b[38;5;124m'\u001b[39m\u001b[38;5;124mtime\u001b[39m\u001b[38;5;124m'\u001b[39m] \u001b[38;5;241m=\u001b[39m pd\u001b[38;5;241m.\u001b[39mto_datetime(\u001b[43mdf0\u001b[49m\u001b[43m[\u001b[49m\u001b[38;5;124;43m'\u001b[39;49m\u001b[38;5;124;43mtime\u001b[39;49m\u001b[38;5;124;43m'\u001b[39;49m\u001b[43m]\u001b[49m)\n\u001b[1;32m      6\u001b[0m df0\u001b[38;5;241m.\u001b[39mset_index(\u001b[38;5;124m'\u001b[39m\u001b[38;5;124mtime\u001b[39m\u001b[38;5;124m'\u001b[39m, inplace\u001b[38;5;241m=\u001b[39m\u001b[38;5;28;01mTrue\u001b[39;00m)\n\u001b[1;32m      8\u001b[0m plt\u001b[38;5;241m.\u001b[39mplot(df0)\n",
      "File \u001b[0;32m/usr/lib/python3/dist-packages/pandas/core/frame.py:3807\u001b[0m, in \u001b[0;36mDataFrame.__getitem__\u001b[0;34m(self, key)\u001b[0m\n\u001b[1;32m   3805\u001b[0m \u001b[38;5;28;01mif\u001b[39;00m \u001b[38;5;28mself\u001b[39m\u001b[38;5;241m.\u001b[39mcolumns\u001b[38;5;241m.\u001b[39mnlevels \u001b[38;5;241m>\u001b[39m \u001b[38;5;241m1\u001b[39m:\n\u001b[1;32m   3806\u001b[0m     \u001b[38;5;28;01mreturn\u001b[39;00m \u001b[38;5;28mself\u001b[39m\u001b[38;5;241m.\u001b[39m_getitem_multilevel(key)\n\u001b[0;32m-> 3807\u001b[0m indexer \u001b[38;5;241m=\u001b[39m \u001b[38;5;28;43mself\u001b[39;49m\u001b[38;5;241;43m.\u001b[39;49m\u001b[43mcolumns\u001b[49m\u001b[38;5;241;43m.\u001b[39;49m\u001b[43mget_loc\u001b[49m\u001b[43m(\u001b[49m\u001b[43mkey\u001b[49m\u001b[43m)\u001b[49m\n\u001b[1;32m   3808\u001b[0m \u001b[38;5;28;01mif\u001b[39;00m is_integer(indexer):\n\u001b[1;32m   3809\u001b[0m     indexer \u001b[38;5;241m=\u001b[39m [indexer]\n",
      "File \u001b[0;32m/usr/lib/python3/dist-packages/pandas/core/indexes/base.py:3804\u001b[0m, in \u001b[0;36mIndex.get_loc\u001b[0;34m(self, key, method, tolerance)\u001b[0m\n\u001b[1;32m   3802\u001b[0m     \u001b[38;5;28;01mreturn\u001b[39;00m \u001b[38;5;28mself\u001b[39m\u001b[38;5;241m.\u001b[39m_engine\u001b[38;5;241m.\u001b[39mget_loc(casted_key)\n\u001b[1;32m   3803\u001b[0m \u001b[38;5;28;01mexcept\u001b[39;00m \u001b[38;5;167;01mKeyError\u001b[39;00m \u001b[38;5;28;01mas\u001b[39;00m err:\n\u001b[0;32m-> 3804\u001b[0m     \u001b[38;5;28;01mraise\u001b[39;00m \u001b[38;5;167;01mKeyError\u001b[39;00m(key) \u001b[38;5;28;01mfrom\u001b[39;00m \u001b[38;5;21;01merr\u001b[39;00m\n\u001b[1;32m   3805\u001b[0m \u001b[38;5;28;01mexcept\u001b[39;00m \u001b[38;5;167;01mTypeError\u001b[39;00m:\n\u001b[1;32m   3806\u001b[0m     \u001b[38;5;66;03m# If we have a listlike key, _check_indexing_error will raise\u001b[39;00m\n\u001b[1;32m   3807\u001b[0m     \u001b[38;5;66;03m#  InvalidIndexError. Otherwise we fall through and re-raise\u001b[39;00m\n\u001b[1;32m   3808\u001b[0m     \u001b[38;5;66;03m#  the TypeError.\u001b[39;00m\n\u001b[1;32m   3809\u001b[0m     \u001b[38;5;28mself\u001b[39m\u001b[38;5;241m.\u001b[39m_check_indexing_error(key)\n",
      "\u001b[0;31mKeyError\u001b[0m: 'time'"
     ]
    },
    {
     "data": {
      "image/png": "[encoded data removed]",
      "text/plain": [
       "<Figure size 640x480 with 1 Axes>"
      ]
     },
     "metadata": {},
     "output_type": "display_data"
    }
   ],
   "source": [
    "#plt.plot(df1['time'], df1['RPS'], label='DF1')  # Plot data from df1\n",
    "\n",
    "# plt.plot(df1)\n",
    "\n",
    "df0['time'] = pd.to_datetime(df0['time'])\n",
    "df0.set_index('time', inplace=True)\n",
    "\n",
    "plt.plot(df0)\n",
    "\n",
    "\n"
   ]
  },
  {
   "cell_type": "code",
   "execution_count": null,
   "id": "286df966",
   "metadata": {},
   "outputs": [],
   "source": []
  }
 ],
 "metadata": {
  "kernelspec": {
   "display_name": "Python 3 (ipykernel)",
   "language": "python",
   "name": "python3"
  },
  "language_info": {
   "codemirror_mode": {
    "name": "ipython",
    "version": 3
   },
   "file_extension": ".py",
   "mimetype": "text/x-python",
   "name": "python",
   "nbconvert_exporter": "python",
   "pygments_lexer": "ipython3",
   "version": "3.11.6"
  }
 },
 "nbformat": 4,
 "nbformat_minor": 5
}
