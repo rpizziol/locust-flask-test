{
 "cells": [
  {
   "cell_type": "code",
   "execution_count": 23,
   "id": "4ad65f4a",
   "metadata": {},
   "outputs": [],
   "source": [
    "import pandas as pd\n",
    "import matplotlib.pyplot as plt\n",
    "import re"
   ]
  },
  {
   "cell_type": "code",
   "execution_count": 24,
   "id": "06edef86",
   "metadata": {},
   "outputs": [],
   "source": [
    "def reformat_time(old_time):\n",
    "    return pd.to_datetime(re.sub(r'\\([^)]*\\)', '', old_time))"
   ]
  },
  {
   "cell_type": "code",
   "execution_count": 25,
   "id": "cf3c912b",
   "metadata": {},
   "outputs": [
    {
     "name": "stdout",
     "output_type": "stream",
     "text": [
      "                       time       CPU\n",
      "0 2024-04-04 12:14:00-02:00  0.146548\n",
      "1 2024-04-04 12:15:00-02:00  0.023017\n",
      "2 2024-04-04 12:16:00-02:00  0.192012\n",
      "3 2024-04-04 12:17:00-02:00  0.497175\n",
      "4 2024-04-04 12:18:00-02:00  0.394026\n",
      "5 2024-04-04 12:19:00-02:00  0.426634\n",
      "6 2024-04-04 12:20:00-02:00  0.453477\n",
      "7 2024-04-04 12:21:00-02:00  0.289510\n",
      "8 2024-04-04 12:22:00-02:00  0.050453\n",
      "Prima del resampling\n",
      "                       time       RPS\n",
      "0 2024-04-04 12:14:00-02:00  3.872920\n",
      "1 2024-04-04 12:16:00-02:00  3.994687\n",
      "2 2024-04-04 12:17:00-02:00  4.794398\n",
      "3 2024-04-04 12:18:00-02:00  4.130650\n",
      "4 2024-04-04 12:19:00-02:00  4.536702\n",
      "5 2024-04-04 12:20:00-02:00  4.524113\n",
      "6 2024-04-04 12:21:00-02:00  4.596898\n",
      "Dopo il resampling\n",
      "                                RPS\n",
      "time                               \n",
      "2024-04-04 12:14:00-02:00  3.872920\n",
      "2024-04-04 12:15:00-02:00  3.872920\n",
      "2024-04-04 12:16:00-02:00  3.994687\n",
      "2024-04-04 12:17:00-02:00  4.794398\n",
      "2024-04-04 12:18:00-02:00  4.130650\n",
      "2024-04-04 12:19:00-02:00  4.536702\n",
      "2024-04-04 12:20:00-02:00  4.524113\n",
      "2024-04-04 12:21:00-02:00  4.596898\n"
     ]
    }
   ],
   "source": [
    "#df1 = pd.read_csv(\"./SpringTestApp_3Tier_-_CPU_Usage/SpringTestApp_3Tier_-_CPU_Usage_1.csv\")\n",
    "# df2 = pd.read_csv(\"./SpringTestApp_3Tier_-_CPU_Usage/SpringTestApp_3Tier_-_CPU_Usage_2.csv\")\n",
    "# df3 = pd.read_csv(\"./SpringTestApp_3Tier_-_CPU_Usage/SpringTestApp_3Tier_-_CPU_Usage_3.csv\")\n",
    "\n",
    "df0 = pd.read_csv(\"/home/robb/PycharmProjects/locust-flask-test/experiments/data/20240404_exp5min_u2-16/u6/SpringTestApp_3Tier_-_CPU_Usage/SpringTestApp_3Tier_-_CPU_Usage_2.csv\", skiprows=1)\n",
    "df1 = pd.read_csv(\"/home/robb/PycharmProjects/locust-flask-test/experiments/data/20240404_exp5min_u2-16/u6/SpringTestApp_3Tier_-_RPS/SpringTestApp_3Tier_-_RPS_2.csv\", skiprows=1)\n",
    "\n",
    "\n",
    "df1.columns = ['time', 'RPS']\n",
    "df0.columns = ['time', 'CPU']\n",
    "df1['time'] = df1['time'].apply(lambda x: reformat_time(x))\n",
    "df0['time'] = df0['time'].apply(lambda x: reformat_time(x))\n",
    "\n",
    "\n",
    "\n",
    "print(df0)\n",
    "\n",
    "print(\"Prima del resampling\")\n",
    "\n",
    "print(df1)\n",
    "\n",
    "df1['time'] = pd.to_datetime(df1['time'])\n",
    "df1.set_index('time', inplace=True)\n",
    "df1 = df1.resample('1min').ffill()\n",
    "\n",
    "print(\"Dopo il resampling\")\n",
    "\n",
    "print(df1)\n"
   ]
  },
  {
   "cell_type": "code",
   "execution_count": 44,
   "id": "e813bd45",
   "metadata": {},
   "outputs": [
    {
     "data": {
      "text/plain": [
       "[<matplotlib.lines.Line2D at 0x740f994cf890>]"
      ]
     },
     "execution_count": 44,
     "metadata": {},
     "output_type": "execute_result"
    },
    {
     "data": {
      "image/png": "[encoded data removed]",
      "text/plain": [
       "<Figure size 640x480 with 1 Axes>"
      ]
     },
     "metadata": {},
     "output_type": "display_data"
    }
   ],
   "source": [
    "#plt.plot(df1['time'], df1['RPS'], label='DF1')  # Plot data from df1\n",
    "\n",
    "# plt.plot(df1)\n",
    "\n",
    "\n",
    "#df0['time'] = pd.to_datetime(df0['time'])\n",
    "#df0.set_index('time', inplace=True)\n",
    "\n",
    "plt.plot(df0)\n",
    "\n",
    "plt.plot(df1)\n",
    "\n",
    "\n"
   ]
  },
  {
   "cell_type": "code",
   "execution_count": null,
   "id": "286df966",
   "metadata": {},
   "outputs": [],
   "source": []
  }
 ],
 "metadata": {
  "kernelspec": {
   "display_name": "Python 3 (ipykernel)",
   "language": "python",
   "name": "python3"
  },
  "language_info": {
   "codemirror_mode": {
    "name": "ipython",
    "version": 3
   },
   "file_extension": ".py",
   "mimetype": "text/x-python",
   "name": "python",
   "nbconvert_exporter": "python",
   "pygments_lexer": "ipython3",
   "version": "3.11.6"
  }
 },
 "nbformat": 4,
 "nbformat_minor": 5
}
